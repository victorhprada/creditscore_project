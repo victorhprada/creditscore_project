{
 "cells": [
  {
   "cell_type": "markdown",
   "metadata": {
    "id": "YSvaFqy0_3J-"
   },
   "source": [
    "# **MÓDULO 17 - Projeto de Credit Score - Parte 1 - Processamento dos dados**\n"
   ]
  },
  {
   "cell_type": "markdown",
   "metadata": {
    "id": "IDEjSN-aAoHC"
   },
   "source": [
    "Essa é a primeira etapa do processo de Credit Score que vocês desenvolverão durante nosso curso.\n",
    "Nessa primeira etapa vocês irão aplicar os passos aprendidos nos módulos de pré processamento para preparar a base de vocês para o desenvolvimento do modelo."
   ]
  },
  {
   "cell_type": "markdown",
   "metadata": {
    "id": "ZSQEobQYBE1h"
   },
   "source": [
    "O termo \"credit score\" se refere a uma pontuação numérica que representa a credibilidade de um indivíduo em termos de cumprimento de obrigações financeiras, como pagar contas de empréstimos, cartões de crédito, entre outros. Essa pontuação é calculada com base em diversas informações financeiras e de crédito do indivíduo, como histórico de pagamentos, níveis de endividamento, tempo de crédito, tipos de crédito utilizados, entre outros.\n",
    "\n",
    "O objetivo de um modelo de credit score é prever o risco de um indivíduo se tornar inadimplente com suas obrigações financeiras. Em outras palavras, o modelo avalia a probabilidade de um indivíduo não cumprir com os pagamentos de empréstimos ou outros compromissos financeiros. Essa previsão é fundamental para instituições financeiras, como bancos e credores, na tomada de decisão sobre a concessão de crédito. Um modelo de credit score eficaz pode ajudar essas instituições a avaliar o risco de emprestar dinheiro a um determinado indivíduo e, assim, tomar decisões mais informadas sobre a aprovação ou negação de crédito, bem como sobre os termos e condições desses empréstimos."
   ]
  },
  {
   "cell_type": "markdown",
   "metadata": {
    "id": "KkVLluwxBGLn"
   },
   "source": [
    "**Atenção:** Notem que esse projeto é diferente da base que tenho trabalhado com vocês em aula, apesar de se tratar de uma base bancária durante a aula falamos sobre a variável Churn a ser prevista, nesse caso a previsão seria do valor do Score de Crédito."
   ]
  },
  {
   "cell_type": "code",
   "execution_count": null,
   "metadata": {
    "id": "NqAC2Vm-_TrA"
   },
   "outputs": [],
   "source": [
    "import seaborn as sns\n",
    "import matplotlib.pyplot as plt\n",
    "import pandas as pd\n",
    "import plotly.express as px"
   ]
  },
  {
   "cell_type": "code",
   "execution_count": null,
   "metadata": {
    "colab": {
     "base_uri": "https://localhost:8080/",
     "height": 363
    },
    "id": "rZIA-ZuQFI4N",
    "outputId": "ab96713f-aa54-42ac-df48-297488222c24"
   },
   "outputs": [
    {
     "data": {
      "application/vnd.google.colaboratory.intrinsic+json": {
       "summary": "{\n  \"name\": \"df\",\n  \"rows\": 164,\n  \"fields\": [\n    {\n      \"column\": \"Age\",\n      \"properties\": {\n        \"dtype\": \"number\",\n        \"std\": 8.500110490705632,\n        \"min\": 25.0,\n        \"max\": 53.0,\n        \"num_unique_values\": 29,\n        \"samples\": [\n          33.0,\n          36.0,\n          34.0\n        ],\n        \"semantic_type\": \"\",\n        \"description\": \"\"\n      }\n    },\n    {\n      \"column\": \"Gender\",\n      \"properties\": {\n        \"dtype\": \"category\",\n        \"num_unique_values\": 2,\n        \"samples\": [\n          \"Male\",\n          \"Female\"\n        ],\n        \"semantic_type\": \"\",\n        \"description\": \"\"\n      }\n    },\n    {\n      \"column\": \"Income\",\n      \"properties\": {\n        \"dtype\": \"category\",\n        \"num_unique_values\": 52,\n        \"samples\": [\n          \"25.000,00\",\n          \"142.500,00\"\n        ],\n        \"semantic_type\": \"\",\n        \"description\": \"\"\n      }\n    },\n    {\n      \"column\": \"Education\",\n      \"properties\": {\n        \"dtype\": \"category\",\n        \"num_unique_values\": 5,\n        \"samples\": [\n          \"Master's Degree\",\n          \"Associate's Degree\"\n        ],\n        \"semantic_type\": \"\",\n        \"description\": \"\"\n      }\n    },\n    {\n      \"column\": \"Marital Status\",\n      \"properties\": {\n        \"dtype\": \"category\",\n        \"num_unique_values\": 2,\n        \"samples\": [\n          \"Married\",\n          \"Single\"\n        ],\n        \"semantic_type\": \"\",\n        \"description\": \"\"\n      }\n    },\n    {\n      \"column\": \"Number of Children\",\n      \"properties\": {\n        \"dtype\": \"number\",\n        \"std\": 0,\n        \"min\": 0,\n        \"max\": 3,\n        \"num_unique_values\": 4,\n        \"samples\": [\n          2,\n          3\n        ],\n        \"semantic_type\": \"\",\n        \"description\": \"\"\n      }\n    },\n    {\n      \"column\": \"Home Ownership\",\n      \"properties\": {\n        \"dtype\": \"category\",\n        \"num_unique_values\": 2,\n        \"samples\": [\n          \"Owned\",\n          \"Rented\"\n        ],\n        \"semantic_type\": \"\",\n        \"description\": \"\"\n      }\n    },\n    {\n      \"column\": \"Credit Score\",\n      \"properties\": {\n        \"dtype\": \"category\",\n        \"num_unique_values\": 3,\n        \"samples\": [\n          \"High\",\n          \"Average\"\n        ],\n        \"semantic_type\": \"\",\n        \"description\": \"\"\n      }\n    }\n  ]\n}",
       "type": "dataframe",
       "variable_name": "df"
      },
      "text/html": [
       "\n",
       "  <div id=\"df-518454bd-5fed-4537-9886-bfb42f0cdf28\" class=\"colab-df-container\">\n",
       "    <div>\n",
       "<style scoped>\n",
       "    .dataframe tbody tr th:only-of-type {\n",
       "        vertical-align: middle;\n",
       "    }\n",
       "\n",
       "    .dataframe tbody tr th {\n",
       "        vertical-align: top;\n",
       "    }\n",
       "\n",
       "    .dataframe thead th {\n",
       "        text-align: right;\n",
       "    }\n",
       "</style>\n",
       "<table border=\"1\" class=\"dataframe\">\n",
       "  <thead>\n",
       "    <tr style=\"text-align: right;\">\n",
       "      <th></th>\n",
       "      <th>Age</th>\n",
       "      <th>Gender</th>\n",
       "      <th>Income</th>\n",
       "      <th>Education</th>\n",
       "      <th>Marital Status</th>\n",
       "      <th>Number of Children</th>\n",
       "      <th>Home Ownership</th>\n",
       "      <th>Credit Score</th>\n",
       "    </tr>\n",
       "  </thead>\n",
       "  <tbody>\n",
       "    <tr>\n",
       "      <th>0</th>\n",
       "      <td>25.0</td>\n",
       "      <td>Female</td>\n",
       "      <td>50.000,00</td>\n",
       "      <td>Bachelor's Degree</td>\n",
       "      <td>Single</td>\n",
       "      <td>0</td>\n",
       "      <td>Rented</td>\n",
       "      <td>High</td>\n",
       "    </tr>\n",
       "    <tr>\n",
       "      <th>1</th>\n",
       "      <td>30.0</td>\n",
       "      <td>Male</td>\n",
       "      <td>100.000,00</td>\n",
       "      <td>Master's Degree</td>\n",
       "      <td>Married</td>\n",
       "      <td>2</td>\n",
       "      <td>Owned</td>\n",
       "      <td>High</td>\n",
       "    </tr>\n",
       "    <tr>\n",
       "      <th>2</th>\n",
       "      <td>35.0</td>\n",
       "      <td>Female</td>\n",
       "      <td>75.000,00</td>\n",
       "      <td>Doctorate</td>\n",
       "      <td>Married</td>\n",
       "      <td>1</td>\n",
       "      <td>Owned</td>\n",
       "      <td>High</td>\n",
       "    </tr>\n",
       "    <tr>\n",
       "      <th>3</th>\n",
       "      <td>40.0</td>\n",
       "      <td>Male</td>\n",
       "      <td>125.000,00</td>\n",
       "      <td>High School Diploma</td>\n",
       "      <td>Single</td>\n",
       "      <td>0</td>\n",
       "      <td>Owned</td>\n",
       "      <td>High</td>\n",
       "    </tr>\n",
       "    <tr>\n",
       "      <th>4</th>\n",
       "      <td>45.0</td>\n",
       "      <td>Female</td>\n",
       "      <td>100.000,00</td>\n",
       "      <td>Bachelor's Degree</td>\n",
       "      <td>Married</td>\n",
       "      <td>3</td>\n",
       "      <td>Owned</td>\n",
       "      <td>High</td>\n",
       "    </tr>\n",
       "    <tr>\n",
       "      <th>5</th>\n",
       "      <td>50.0</td>\n",
       "      <td>Male</td>\n",
       "      <td>150.000,00</td>\n",
       "      <td>Master's Degree</td>\n",
       "      <td>Married</td>\n",
       "      <td>0</td>\n",
       "      <td>Owned</td>\n",
       "      <td>High</td>\n",
       "    </tr>\n",
       "    <tr>\n",
       "      <th>6</th>\n",
       "      <td>26.0</td>\n",
       "      <td>Female</td>\n",
       "      <td>40.000,00</td>\n",
       "      <td>Associate's Degree</td>\n",
       "      <td>Single</td>\n",
       "      <td>0</td>\n",
       "      <td>Rented</td>\n",
       "      <td>Average</td>\n",
       "    </tr>\n",
       "    <tr>\n",
       "      <th>7</th>\n",
       "      <td>31.0</td>\n",
       "      <td>Male</td>\n",
       "      <td>60.000,00</td>\n",
       "      <td>Bachelor's Degree</td>\n",
       "      <td>Single</td>\n",
       "      <td>0</td>\n",
       "      <td>Rented</td>\n",
       "      <td>Average</td>\n",
       "    </tr>\n",
       "    <tr>\n",
       "      <th>8</th>\n",
       "      <td>NaN</td>\n",
       "      <td>Female</td>\n",
       "      <td>80.000,00</td>\n",
       "      <td>Master's Degree</td>\n",
       "      <td>Married</td>\n",
       "      <td>2</td>\n",
       "      <td>Owned</td>\n",
       "      <td>High</td>\n",
       "    </tr>\n",
       "    <tr>\n",
       "      <th>9</th>\n",
       "      <td>NaN</td>\n",
       "      <td>Male</td>\n",
       "      <td>105.000,00</td>\n",
       "      <td>Doctorate</td>\n",
       "      <td>Single</td>\n",
       "      <td>0</td>\n",
       "      <td>Owned</td>\n",
       "      <td>High</td>\n",
       "    </tr>\n",
       "  </tbody>\n",
       "</table>\n",
       "</div>\n",
       "    <div class=\"colab-df-buttons\">\n",
       "\n",
       "  <div class=\"colab-df-container\">\n",
       "    <button class=\"colab-df-convert\" onclick=\"convertToInteractive('df-518454bd-5fed-4537-9886-bfb42f0cdf28')\"\n",
       "            title=\"Convert this dataframe to an interactive table.\"\n",
       "            style=\"display:none;\">\n",
       "\n",
       "  <svg xmlns=\"http://www.w3.org/2000/svg\" height=\"24px\" viewBox=\"0 -960 960 960\">\n",
       "    <path d=\"M120-120v-720h720v720H120Zm60-500h600v-160H180v160Zm220 220h160v-160H400v160Zm0 220h160v-160H400v160ZM180-400h160v-160H180v160Zm440 0h160v-160H620v160ZM180-180h160v-160H180v160Zm440 0h160v-160H620v160Z\"/>\n",
       "  </svg>\n",
       "    </button>\n",
       "\n",
       "  <style>\n",
       "    .colab-df-container {\n",
       "      display:flex;\n",
       "      gap: 12px;\n",
       "    }\n",
       "\n",
       "    .colab-df-convert {\n",
       "      background-color: #E8F0FE;\n",
       "      border: none;\n",
       "      border-radius: 50%;\n",
       "      cursor: pointer;\n",
       "      display: none;\n",
       "      fill: #1967D2;\n",
       "      height: 32px;\n",
       "      padding: 0 0 0 0;\n",
       "      width: 32px;\n",
       "    }\n",
       "\n",
       "    .colab-df-convert:hover {\n",
       "      background-color: #E2EBFA;\n",
       "      box-shadow: 0px 1px 2px rgba(60, 64, 67, 0.3), 0px 1px 3px 1px rgba(60, 64, 67, 0.15);\n",
       "      fill: #174EA6;\n",
       "    }\n",
       "\n",
       "    .colab-df-buttons div {\n",
       "      margin-bottom: 4px;\n",
       "    }\n",
       "\n",
       "    [theme=dark] .colab-df-convert {\n",
       "      background-color: #3B4455;\n",
       "      fill: #D2E3FC;\n",
       "    }\n",
       "\n",
       "    [theme=dark] .colab-df-convert:hover {\n",
       "      background-color: #434B5C;\n",
       "      box-shadow: 0px 1px 3px 1px rgba(0, 0, 0, 0.15);\n",
       "      filter: drop-shadow(0px 1px 2px rgba(0, 0, 0, 0.3));\n",
       "      fill: #FFFFFF;\n",
       "    }\n",
       "  </style>\n",
       "\n",
       "    <script>\n",
       "      const buttonEl =\n",
       "        document.querySelector('#df-518454bd-5fed-4537-9886-bfb42f0cdf28 button.colab-df-convert');\n",
       "      buttonEl.style.display =\n",
       "        google.colab.kernel.accessAllowed ? 'block' : 'none';\n",
       "\n",
       "      async function convertToInteractive(key) {\n",
       "        const element = document.querySelector('#df-518454bd-5fed-4537-9886-bfb42f0cdf28');\n",
       "        const dataTable =\n",
       "          await google.colab.kernel.invokeFunction('convertToInteractive',\n",
       "                                                    [key], {});\n",
       "        if (!dataTable) return;\n",
       "\n",
       "        const docLinkHtml = 'Like what you see? Visit the ' +\n",
       "          '<a target=\"_blank\" href=https://colab.research.google.com/notebooks/data_table.ipynb>data table notebook</a>'\n",
       "          + ' to learn more about interactive tables.';\n",
       "        element.innerHTML = '';\n",
       "        dataTable['output_type'] = 'display_data';\n",
       "        await google.colab.output.renderOutput(dataTable, element);\n",
       "        const docLink = document.createElement('div');\n",
       "        docLink.innerHTML = docLinkHtml;\n",
       "        element.appendChild(docLink);\n",
       "      }\n",
       "    </script>\n",
       "  </div>\n",
       "\n",
       "\n",
       "<div id=\"df-64879bee-f499-47f7-a300-a28ad74c9b9d\">\n",
       "  <button class=\"colab-df-quickchart\" onclick=\"quickchart('df-64879bee-f499-47f7-a300-a28ad74c9b9d')\"\n",
       "            title=\"Suggest charts\"\n",
       "            style=\"display:none;\">\n",
       "\n",
       "<svg xmlns=\"http://www.w3.org/2000/svg\" height=\"24px\"viewBox=\"0 0 24 24\"\n",
       "     width=\"24px\">\n",
       "    <g>\n",
       "        <path d=\"M19 3H5c-1.1 0-2 .9-2 2v14c0 1.1.9 2 2 2h14c1.1 0 2-.9 2-2V5c0-1.1-.9-2-2-2zM9 17H7v-7h2v7zm4 0h-2V7h2v10zm4 0h-2v-4h2v4z\"/>\n",
       "    </g>\n",
       "</svg>\n",
       "  </button>\n",
       "\n",
       "<style>\n",
       "  .colab-df-quickchart {\n",
       "      --bg-color: #E8F0FE;\n",
       "      --fill-color: #1967D2;\n",
       "      --hover-bg-color: #E2EBFA;\n",
       "      --hover-fill-color: #174EA6;\n",
       "      --disabled-fill-color: #AAA;\n",
       "      --disabled-bg-color: #DDD;\n",
       "  }\n",
       "\n",
       "  [theme=dark] .colab-df-quickchart {\n",
       "      --bg-color: #3B4455;\n",
       "      --fill-color: #D2E3FC;\n",
       "      --hover-bg-color: #434B5C;\n",
       "      --hover-fill-color: #FFFFFF;\n",
       "      --disabled-bg-color: #3B4455;\n",
       "      --disabled-fill-color: #666;\n",
       "  }\n",
       "\n",
       "  .colab-df-quickchart {\n",
       "    background-color: var(--bg-color);\n",
       "    border: none;\n",
       "    border-radius: 50%;\n",
       "    cursor: pointer;\n",
       "    display: none;\n",
       "    fill: var(--fill-color);\n",
       "    height: 32px;\n",
       "    padding: 0;\n",
       "    width: 32px;\n",
       "  }\n",
       "\n",
       "  .colab-df-quickchart:hover {\n",
       "    background-color: var(--hover-bg-color);\n",
       "    box-shadow: 0 1px 2px rgba(60, 64, 67, 0.3), 0 1px 3px 1px rgba(60, 64, 67, 0.15);\n",
       "    fill: var(--button-hover-fill-color);\n",
       "  }\n",
       "\n",
       "  .colab-df-quickchart-complete:disabled,\n",
       "  .colab-df-quickchart-complete:disabled:hover {\n",
       "    background-color: var(--disabled-bg-color);\n",
       "    fill: var(--disabled-fill-color);\n",
       "    box-shadow: none;\n",
       "  }\n",
       "\n",
       "  .colab-df-spinner {\n",
       "    border: 2px solid var(--fill-color);\n",
       "    border-color: transparent;\n",
       "    border-bottom-color: var(--fill-color);\n",
       "    animation:\n",
       "      spin 1s steps(1) infinite;\n",
       "  }\n",
       "\n",
       "  @keyframes spin {\n",
       "    0% {\n",
       "      border-color: transparent;\n",
       "      border-bottom-color: var(--fill-color);\n",
       "      border-left-color: var(--fill-color);\n",
       "    }\n",
       "    20% {\n",
       "      border-color: transparent;\n",
       "      border-left-color: var(--fill-color);\n",
       "      border-top-color: var(--fill-color);\n",
       "    }\n",
       "    30% {\n",
       "      border-color: transparent;\n",
       "      border-left-color: var(--fill-color);\n",
       "      border-top-color: var(--fill-color);\n",
       "      border-right-color: var(--fill-color);\n",
       "    }\n",
       "    40% {\n",
       "      border-color: transparent;\n",
       "      border-right-color: var(--fill-color);\n",
       "      border-top-color: var(--fill-color);\n",
       "    }\n",
       "    60% {\n",
       "      border-color: transparent;\n",
       "      border-right-color: var(--fill-color);\n",
       "    }\n",
       "    80% {\n",
       "      border-color: transparent;\n",
       "      border-right-color: var(--fill-color);\n",
       "      border-bottom-color: var(--fill-color);\n",
       "    }\n",
       "    90% {\n",
       "      border-color: transparent;\n",
       "      border-bottom-color: var(--fill-color);\n",
       "    }\n",
       "  }\n",
       "</style>\n",
       "\n",
       "  <script>\n",
       "    async function quickchart(key) {\n",
       "      const quickchartButtonEl =\n",
       "        document.querySelector('#' + key + ' button');\n",
       "      quickchartButtonEl.disabled = true;  // To prevent multiple clicks.\n",
       "      quickchartButtonEl.classList.add('colab-df-spinner');\n",
       "      try {\n",
       "        const charts = await google.colab.kernel.invokeFunction(\n",
       "            'suggestCharts', [key], {});\n",
       "      } catch (error) {\n",
       "        console.error('Error during call to suggestCharts:', error);\n",
       "      }\n",
       "      quickchartButtonEl.classList.remove('colab-df-spinner');\n",
       "      quickchartButtonEl.classList.add('colab-df-quickchart-complete');\n",
       "    }\n",
       "    (() => {\n",
       "      let quickchartButtonEl =\n",
       "        document.querySelector('#df-64879bee-f499-47f7-a300-a28ad74c9b9d button');\n",
       "      quickchartButtonEl.style.display =\n",
       "        google.colab.kernel.accessAllowed ? 'block' : 'none';\n",
       "    })();\n",
       "  </script>\n",
       "</div>\n",
       "\n",
       "    </div>\n",
       "  </div>\n"
      ],
      "text/plain": [
       "    Age  Gender      Income            Education Marital Status  \\\n",
       "0  25.0  Female   50.000,00    Bachelor's Degree         Single   \n",
       "1  30.0    Male  100.000,00      Master's Degree        Married   \n",
       "2  35.0  Female   75.000,00            Doctorate        Married   \n",
       "3  40.0    Male  125.000,00  High School Diploma         Single   \n",
       "4  45.0  Female  100.000,00    Bachelor's Degree        Married   \n",
       "5  50.0    Male  150.000,00      Master's Degree        Married   \n",
       "6  26.0  Female   40.000,00   Associate's Degree         Single   \n",
       "7  31.0    Male   60.000,00    Bachelor's Degree         Single   \n",
       "8   NaN  Female   80.000,00      Master's Degree        Married   \n",
       "9   NaN    Male  105.000,00            Doctorate         Single   \n",
       "\n",
       "   Number of Children Home Ownership Credit Score  \n",
       "0                   0         Rented         High  \n",
       "1                   2          Owned         High  \n",
       "2                   1          Owned         High  \n",
       "3                   0          Owned         High  \n",
       "4                   3          Owned         High  \n",
       "5                   0          Owned         High  \n",
       "6                   0         Rented      Average  \n",
       "7                   0         Rented      Average  \n",
       "8                   2          Owned         High  \n",
       "9                   0          Owned         High  "
      ]
     },
     "execution_count": 2,
     "metadata": {},
     "output_type": "execute_result"
    }
   ],
   "source": [
    "#Lembrem-se sempre de alterar a importação dos dados de acordo com o diretório de vocês.\n",
    "df = pd.read_csv(\"CREDIT_SCORE_PROJETO_PARTE1.csv\", delimiter=';')\n",
    "\n",
    "df.head(10)"
   ]
  },
  {
   "cell_type": "markdown",
   "metadata": {
    "id": "iT3r-w7CFnFz"
   },
   "source": [
    "Legenda dos dados:\n",
    "\n",
    "*   **Age** : Idade dos nossos clientes.\n",
    "\n",
    "*   **Income** : Salário Mensal.\n",
    "\n",
    "*   **Gender** : Gênero.\n",
    "\n",
    "*   **Education** : Nível de escolaridade dos clientes.\n",
    "\n",
    "*   **Marital** : Status Civilmente.\n",
    "\n",
    "*   **Number of Children** : Quantidade de filhos.\n",
    "\n",
    "*   **Home** : Tipo de residência, alugada ou própria.\n",
    "\n",
    "*   **Credit Score** : Nossa variável preditora, o score de crédito dos clientes.\n"
   ]
  },
  {
   "cell_type": "markdown",
   "metadata": {
    "id": "CLELyWezGqLj"
   },
   "source": [
    "# Etapa 1: Relize os passos que vimos no módulo 18, de pré processamento dos dados.\n",
    "\n",
    "**A) Verifique os tipos de dados, fazendo as transformações quando necessário.**\n"
   ]
  },
  {
   "cell_type": "code",
   "execution_count": null,
   "metadata": {
    "id": "Sz4VWdyEGkNw"
   },
   "outputs": [],
   "source": [
    "#A) seu código aqui\n",
    "print(df.dtypes)"
   ]
  },
  {
   "cell_type": "markdown",
   "metadata": {
    "id": "AjwLsSKCKnVx"
   },
   "source": [
    "**B) Verifique se temos colunas com dados faltantes.\n",
    "Caso existam colunas com dados faltantes faça o tratamento desses dados, excluindo ou substituindo esses valores. Justifique sua escolha.**"
   ]
  },
  {
   "cell_type": "code",
   "execution_count": null,
   "metadata": {
    "id": "VLkM6n-hLAgp"
   },
   "outputs": [],
   "source": [
    "#seu código aqui\n",
    "from scipy.stats import skew\n",
    "\n",
    "# Verificando assimetria da idade, uma assimetria leve é indicado preencher os dados nulos com a média\n",
    "assimetria_age = skew(df['Age'].dropna())\n",
    "print(f\"Assimetria: {assimetria_age:.2f}\")\n",
    "\n",
    "# Assimetria perto de 0 (zero) quer dizer que a distribuição é quase normal, então podemos preencher os valores nulos com a média\n",
    "media_age = df['Age'].mean()\n",
    "\n",
    "df.fillna({'Age': media_age}, inplace=True)\n",
    "print(df['Age'].isnull().sum())"
   ]
  },
  {
   "cell_type": "markdown",
   "metadata": {
    "id": "euKGU_e1MDC4"
   },
   "source": [
    "**C) Verifique se temos valores digitados de forma incorreta nas variáveis categóricas que necessitem de tratamento.**"
   ]
  },
  {
   "cell_type": "code",
   "execution_count": null,
   "metadata": {
    "id": "nQZpOg3cMMA7"
   },
   "outputs": [],
   "source": [
    "#seu código aqui\n",
    "print(df[['Gender', 'Education', 'Marital Status', 'Home Ownership', 'Credit Score']].apply(pd.Series.unique))"
   ]
  },
  {
   "cell_type": "markdown",
   "metadata": {
    "id": "bx-NFZUJMo7C"
   },
   "source": [
    "# Etapa 2: Relize os passos que vimos no módulo 15, de análise.\n",
    "\n",
    "**A) Realiza a análise univariada, aplique a função describe ao nosso dataframe para verificar os dados das variáveis numéricas, se encontrar a possível presença de outliers analise com gráficos a distribuição dos dados.Traga insights sobre os dados analisados.**"
   ]
  },
  {
   "cell_type": "code",
   "execution_count": null,
   "metadata": {
    "id": "H_aBPqQmNZ2r"
   },
   "outputs": [],
   "source": [
    "#seu código aqui\n",
    "\n",
    "print(df.describe())\n",
    "\n",
    "# Buscando possíveis outliers com o Box Plot\n",
    "df.boxplot(column='Age')\n",
    "plt.title('Box Plot Idade')\n",
    "plt.ylabel('Valores')\n",
    "plt.show()\n",
    "\n",
    "df.boxplot(column='Income')\n",
    "plt.title('Box Plot Income')\n",
    "plt.ylabel('Valores')\n",
    "plt.show()\n",
    "\n",
    "# Outlier encontrado no número de filhos \n",
    "df.boxplot(column='Number of Children')\n",
    "plt.title('Box Plot Filhos')\n",
    "plt.ylabel('Valores')\n",
    "plt.show()\n",
    "\n",
    "# Número de filhos\n",
    "count_children = df['Number of Children'].value_counts() # Contagem dos valores da coluna número de filhos\n",
    "\n",
    "# Calculando a porcentagem dos números de filhos\n",
    "porcent_children = (count_children / count_children.sum()) * 100\n",
    "ax = porcent_children.plot(kind='bar')\n",
    "plt.title('Gráfico de barras para a variável número de filhos')\n",
    "plt.xlabel('Número de filhos')\n",
    "plt.ylabel('Frequência')\n",
    "plt.show()"
   ]
  },
  {
   "cell_type": "markdown",
   "metadata": {
    "id": "2aYVu9voNM1t"
   },
   "source": [
    "**B) Agora realize a análise univariada para as variaveis categóricas, plote gráficos para entender a distribuição das categorias e tente retirar insights de cada gráfico.**"
   ]
  },
  {
   "cell_type": "code",
   "execution_count": null,
   "metadata": {
    "id": "Yup7zkKKNvfx"
   },
   "outputs": [],
   "source": [
    "#seu código aqui\n",
    "\n",
    "# Analisando as variáveis categóricas\n",
    "\n",
    "# Genêro\n",
    "# Os clientes em sua maioria são mulheres, isso pode apresentar uma taxa de análise de crédito maior nas mulheres do que nos homens.\n",
    "# Calculando a porcentagem \n",
    "count_gender = df['Gender'].value_counts()\n",
    "percent_gender = (count_gender / count_gender.sum()) * 100\n",
    "\n",
    "ax = count_gender.plot(kind='bar')\n",
    "# Adicionando porcentagem as barras\n",
    "for i, v in enumerate(count_gender):\n",
    "    ax.text(i, v + 1, f'{percent_gender[i]:.2f}%', ha='center')\n",
    "plt.title('Gráfico de barras para a variável genêro')\n",
    "plt.xlabel('Genereo')\n",
    "plt.ylabel('Frequência')\n",
    "plt.show()\n",
    "\n",
    "# Educação\n",
    "# Os clientes em sua maioria possuêm grau de bacharelado, isso pode apresentar uma taxa de análise de crédito maior nas pessoas com nível de bacharelado.\n",
    "count_edu = df['Education'].value_counts()\n",
    "percent_edu = (count_edu / count_edu.sum()) * 100\n",
    "\n",
    "ax = count_edu.plot(kind='bar')\n",
    "# Adicionando porcentagem as barras\n",
    "for i, v in enumerate(count_edu):\n",
    "    ax.text(i, v + 1, f'{percent_edu[i]:.2f}%', ha='center')\n",
    "plt.title('Gráfico de barras para a variável educação')\n",
    "plt.xlabel('Grau de Educação')\n",
    "plt.ylabel('Frequência')\n",
    "plt.show()\n",
    "\n",
    "# Status matrimonial\n",
    "# Os clientes em sua maioria são casados, isso pode apresentar uma taxa de análise de crédito maior nas pessoas casadas.\n",
    "\n",
    "count_matrial_status = df['Marital Status'].value_counts()\n",
    "percent_matrial_status = (count_matrial_status / count_matrial_status.sum()) * 100\n",
    "\n",
    "ax = count_matrial_status.plot(kind='bar')\n",
    "for i, v in enumerate(count_matrial_status):\n",
    "    ax.text(i, v + 1, f'{percent_matrial_status[i]:.2f}%', ha='center')\n",
    "plt.title('Gráfico de barras para o status matrimonial')\n",
    "plt.xlabel('Status Matrimonial')\n",
    "plt.ylabel('Frequência')\n",
    "plt.show()\n",
    "\n",
    "# Home Ownership\n",
    "# Os clientes em sua maioria possuem casa prórpia, isso pode apresentar uma taxa de análise de crédito maior nas pessoas que já possuem uma casa própria.\n",
    "\n",
    "count_ownership = df['Home Ownership'].value_counts()\n",
    "percent_ownership = (count_ownership / count_ownership.sum()) * 100\n",
    "\n",
    "ax = count_ownership.plot(kind='bar')\n",
    "for i, v in enumerate(count_ownership):\n",
    "    ax.text(i, v + 1, f'{percent_ownership[i]:.2f}%', ha='center')\n",
    "plt.title('Gráfico de barras para o casa própria')\n",
    "plt.xlabel('Casa Própria')\n",
    "plt.ylabel('Frequência')\n",
    "plt.show()\n",
    "\n",
    "# Credit Score\n",
    "# Os clientes em sua maioria possuem um score alto.\n",
    "\n",
    "count_credit_score = df['Credit Score'].value_counts()\n",
    "percent_credit_score = (count_credit_score / count_credit_score.sum()) * 100\n",
    "\n",
    "ax = count_credit_score.plot(kind='bar')\n",
    "for i, v in enumerate(count_credit_score):\n",
    "    ax.text(i, v + 1, f'{percent_credit_score[i]:.2f}%', ha='center')\n",
    "plt.title('Gráfico de barras para score de crédito')\n",
    "plt.xlabel('Score de Crédito')\n",
    "plt.ylabel('Frequência')\n",
    "plt.show()"
   ]
  },
  {
   "cell_type": "markdown",
   "metadata": {
    "id": "6DbM3u9KObSk"
   },
   "source": [
    "**C) Você encontrou alguma coluna com outliers?\n",
    "Se sim realize o tratamento desses casos.**"
   ]
  },
  {
   "cell_type": "code",
   "execution_count": null,
   "metadata": {
    "id": "knmGNrfpOmE0"
   },
   "outputs": [],
   "source": [
    "#seu código aqui"
   ]
  },
  {
   "cell_type": "markdown",
   "metadata": {
    "id": "juhp1weZOoPy"
   },
   "source": [
    "**D) Realize a análise Bivariada.\n",
    "Tente responder as seguintes perguntas com gráficos seguidos de insights:**\n",
    "\n",
    "\n",
    "\n",
    "*   Existe relação entre a idade e o status civil?\n",
    "*   Qual a relação entre o score de crédito e o nível de escolaridade?\n",
    "*  O salário parece influenciar na idade?\n",
    "* O salário parece influenciar no Score de Crédito?\n",
    "* Clientes com casa própria tendem a ter um score mais alto?\n",
    "\n"
   ]
  },
  {
   "cell_type": "code",
   "execution_count": null,
   "metadata": {
    "id": "m0a0tGHwPRRQ"
   },
   "outputs": [],
   "source": [
    "#seu código aqui"
   ]
  },
  {
   "cell_type": "markdown",
   "metadata": {
    "id": "4-Sb2M1CS78V"
   },
   "source": [
    "**E) Que outras perguntas te parecem fazer sentido explorarmos a resposta para conhecermos mais nossa base de dados e o comportamento dos clientes?**\n",
    "\n",
    " Elabore mais 3 perguntas e responda utilizando gráficos + insights."
   ]
  },
  {
   "cell_type": "code",
   "execution_count": null,
   "metadata": {
    "id": "DlCRDfitX0Kr"
   },
   "outputs": [],
   "source": [
    "# seu código aqui"
   ]
  },
  {
   "cell_type": "markdown",
   "metadata": {
    "id": "AfM22KGzS6kx"
   },
   "source": [
    "# Etapa 3: Relize os passos que vimos no módulo 17, de Correlação, Balanceamento, atributos categóricos e divisão base treino e teste.\n",
    "\n",
    "**A) Vamos começar pela análise de correlação, plote da forma que achar melhor a análise de correlação, seja pela tabela ou pelo gráfico da matriz.**"
   ]
  },
  {
   "cell_type": "code",
   "execution_count": null,
   "metadata": {
    "id": "HuwjREwRTkSr"
   },
   "outputs": [],
   "source": [
    "#seu código aqui"
   ]
  },
  {
   "cell_type": "markdown",
   "metadata": {
    "id": "RVtGV11oTqBZ"
   },
   "source": [
    "**B) Você encontrou variáveis que tem uma média ou alta correlação? Se sim, quais? Te parece fazer sentido essas variáveis terem alta correlação? Justifique.**"
   ]
  },
  {
   "cell_type": "code",
   "execution_count": null,
   "metadata": {
    "id": "uwLdBhAzX2lF"
   },
   "outputs": [],
   "source": [
    "# sua justificativa aqui"
   ]
  },
  {
   "cell_type": "markdown",
   "metadata": {
    "id": "8DVxZaoHT5s1"
   },
   "source": [
    "**C) Temos muitos atributos categóricos nessa base, não? Vamos realizar a o tratamento desses atributos utilizando Label Encoder ou one hot. Após, exclua as colunas categóricas.**"
   ]
  },
  {
   "cell_type": "code",
   "execution_count": null,
   "metadata": {
    "id": "15Gu3YtHUOY8"
   },
   "outputs": [],
   "source": [
    "#seu código aqui"
   ]
  },
  {
   "cell_type": "markdown",
   "metadata": {
    "id": "55mMET6EU2c7"
   },
   "source": [
    "**D) Vamos plotar novamente a correlação, agora observando com as variáveis categóricas. Identifique se temos novas variáveis com forte correlação.**"
   ]
  },
  {
   "cell_type": "code",
   "execution_count": null,
   "metadata": {
    "id": "-mbsbbsOU9JR"
   },
   "outputs": [],
   "source": [
    "#seu código aqui"
   ]
  },
  {
   "cell_type": "markdown",
   "metadata": {
    "id": "HNri8kboVK-9"
   },
   "source": [
    "**F) Faça a separação da base em treino e teste e verifique utilizando shape:**"
   ]
  },
  {
   "cell_type": "code",
   "execution_count": null,
   "metadata": {
    "id": "BtgEiewTVjwC"
   },
   "outputs": [],
   "source": [
    "#seu código aqui"
   ]
  },
  {
   "cell_type": "markdown",
   "metadata": {
    "id": "mjzJ6j6oV-y1"
   },
   "source": [
    "**G) É hora de verificar se nossa coluna de Score de crédito está balanceada, verifique através de um gráfico e traga sua opinião acerca do balanceamento.**"
   ]
  },
  {
   "cell_type": "code",
   "execution_count": null,
   "metadata": {
    "id": "lDNhhnvTWKNw"
   },
   "outputs": [],
   "source": [
    "#seu código aqui"
   ]
  },
  {
   "cell_type": "markdown",
   "metadata": {
    "id": "_4IWYiBGWkU8"
   },
   "source": [
    "**H) Vamos realizar o balancecamento dos dados da coluna de credit score.**\n",
    "Se lembre que realizazmos apenas para a base de treino."
   ]
  },
  {
   "cell_type": "code",
   "execution_count": null,
   "metadata": {
    "id": "65kcFic5WwXh"
   },
   "outputs": [],
   "source": [
    "#seu código aqui"
   ]
  }
 ],
 "metadata": {
  "colab": {
   "provenance": []
  },
  "kernelspec": {
   "display_name": "Python 3 (ipykernel)",
   "language": "python",
   "name": "python3"
  },
  "language_info": {
   "codemirror_mode": {
    "name": "ipython",
    "version": 3
   },
   "file_extension": ".py",
   "mimetype": "text/x-python",
   "name": "python",
   "nbconvert_exporter": "python",
   "pygments_lexer": "ipython3",
   "version": "3.11.7"
  }
 },
 "nbformat": 4,
 "nbformat_minor": 0
}
